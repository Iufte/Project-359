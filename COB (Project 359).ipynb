{
 "cells": [
  {
   "cell_type": "code",
   "execution_count": 5,
   "metadata": {},
   "outputs": [],
   "source": [
    "#     Hello. My name is Vicente Trelles Fernández.\n",
    "\n",
    "#     This file contains the piece of code I have utilized as part of my Hounours Project (Project 359), named COB\n",
    "\n",
    "#     In order to use COB, please locate the file containing this code in the same folder\n",
    "#     as the FASTA file containing the DNA sequence you wish to analyse\n",
    "\n",
    "#     Then simply run the code\n",
    "\n",
    "#     If you are using Jupyter Notebook to run the code, run the first cell first (starting with def COB())\n",
    "#     Then run the second cell (which says COB()) or simply type COB() in an empty cell\n",
    "\n",
    "#     The cosole will ask you to input the name of the file containing the sequence.\n",
    "#     COB reads text files.\n",
    "#     Make sure to include the file extension (for example, .txt) at the end of the name\n",
    "\n",
    "#     I hope this tool may be useful for your own research on 359 synthesis"
   ]
  },
  {
   "cell_type": "code",
   "execution_count": null,
   "metadata": {},
   "outputs": [],
   "source": []
  },
  {
   "cell_type": "code",
   "execution_count": 6,
   "metadata": {},
   "outputs": [],
   "source": [
    "def COB():\n",
    "    \n",
    "    my_sequence = input('Please input the name of your the FASTA txt file with your DNA sequence in the box' + \n",
    "                        '\\nPlease include .txt at the end' + '\\n')\n",
    "    txt_series = open(my_sequence, 'r')\n",
    "    fasta = txt_series.read()\n",
    "    \n",
    "    gc_count = 0\n",
    "    at_count = 0\n",
    "    frame_1_score = 0\n",
    "    frame_2_score = 0\n",
    "    \n",
    "    for i in range(0, len(fasta), 2):\n",
    "        if fasta[i] == 'g' or fasta[i] == 'c' or fasta[i] == 'G' or fasta[i] == 'C':\n",
    "            gc_count += 1\n",
    "        else: at_count += 1\n",
    "    \n",
    "    frame_1_score = gc_count - at_count\n",
    "    \n",
    "    gc_count = 0\n",
    "    at_count = 0\n",
    "\n",
    "    for i in range(1, len(fasta), 2):\n",
    "        if fasta[i] == 'g' or fasta[i] == 'c' or fasta[i] == 'G' or fasta[i] == 'C':\n",
    "            gc_count += 1\n",
    "        else: at_count += 1\n",
    "    \n",
    "    frame_2_score = gc_count - at_count\n",
    "            \n",
    "    print('\\n' + 'Frame 1 score: ' + str(frame_1_score) + '\\nFrame 2 score: ' + str(frame_2_score))\n",
    "    \n",
    "    if frame_1_score > frame_2_score:\n",
    "        print('Choose frame 1')\n",
    "    elif frame_1_score < frame_2_score:\n",
    "        print('Choose frame 2')\n",
    "    else:\n",
    "        print('Both frames have equal scores')"
   ]
  },
  {
   "cell_type": "code",
   "execution_count": null,
   "metadata": {},
   "outputs": [],
   "source": [
    "COB()"
   ]
  }
 ],
 "metadata": {
  "kernelspec": {
   "display_name": "Python 3",
   "language": "python",
   "name": "python3"
  },
  "language_info": {
   "codemirror_mode": {
    "name": "ipython",
    "version": 3
   },
   "file_extension": ".py",
   "mimetype": "text/x-python",
   "name": "python",
   "nbconvert_exporter": "python",
   "pygments_lexer": "ipython3",
   "version": "3.7.6"
  }
 },
 "nbformat": 4,
 "nbformat_minor": 2
}
